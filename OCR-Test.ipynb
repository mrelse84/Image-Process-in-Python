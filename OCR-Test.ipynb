{
 "cells": [
  {
   "cell_type": "markdown",
   "metadata": {},
   "source": [
    "# Tesseract 테스트"
   ]
  },
  {
   "cell_type": "code",
   "execution_count": 16,
   "metadata": {},
   "outputs": [],
   "source": [
    "# 출처 : Python에서 Tesseract 사용하기 for OCR (Kang Jun Young (강준영))\n",
    "# https://junyoung-jamong.github.io/computer/vision,/ocr/2019/01/30/Python%EC%97%90%EC%84%9C-Tesseract%EB%A5%BC-%EC%9D%B4%EC%9A%A9%ED%95%B4-OCR-%EC%88%98%ED%96%89%ED%95%98%EA%B8%B0.html"
   ]
  },
  {
   "cell_type": "code",
   "execution_count": 15,
   "metadata": {},
   "outputs": [],
   "source": [
    "# pip install pytesseract # Python-tesseract (Google의 Tesseract-OCR Engine에 대한 wrapper) 설치"
   ]
  },
  {
   "cell_type": "code",
   "execution_count": 13,
   "metadata": {},
   "outputs": [],
   "source": [
    "import pytesseract\n",
    "pytesseract.pytesseract.tesseract_cmd = r'C:\\Program Files\\Tesseract-OCR\\tesseract'"
   ]
  },
  {
   "cell_type": "code",
   "execution_count": 14,
   "metadata": {},
   "outputs": [
    {
     "name": "stdout",
     "output_type": "stream",
     "text": [
      "The (quick) [brown] {fox} jumps!\n",
      "Over the $43,456.78 <lazy> #90 dog\n",
      "& duck/goose, as 12.5% of E-mail\n",
      "from aspammer@website.com is spam.\n",
      "Der ,.schnelle” braune Fuchs springt\n",
      "tiber den faulen Hund. Le renard brun\n",
      "«rapide» saute par-dessus le chien\n",
      "paresseux. La volpe marrone rapida\n",
      "salta sopra il cane pigro. El zorro\n",
      "marrén rapido salta sobre el perro\n",
      "perezoso. A raposa marrom rapida\n",
      "salta sobre o cdo preguicoso.\n",
      "\f",
      "\n"
     ]
    }
   ],
   "source": [
    "print(pytesseract.image_to_string(r'D:\\images\\test_images\\OCR-Test01.PNG'))"
   ]
  },
  {
   "cell_type": "code",
   "execution_count": null,
   "metadata": {},
   "outputs": [],
   "source": []
  }
 ],
 "metadata": {
  "kernelspec": {
   "display_name": "Python 3",
   "language": "python",
   "name": "python3"
  },
  "language_info": {
   "codemirror_mode": {
    "name": "ipython",
    "version": 3
   },
   "file_extension": ".py",
   "mimetype": "text/x-python",
   "name": "python",
   "nbconvert_exporter": "python",
   "pygments_lexer": "ipython3",
   "version": "3.7.7"
  }
 },
 "nbformat": 4,
 "nbformat_minor": 4
}
